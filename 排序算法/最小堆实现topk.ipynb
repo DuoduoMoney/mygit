{
 "cells": [
  {
   "cell_type": "code",
   "execution_count": 1,
   "metadata": {
    "ExecuteTime": {
     "end_time": "2019-12-30T07:39:55.989141Z",
     "start_time": "2019-12-30T07:39:55.946264Z"
    }
   },
   "outputs": [
    {
     "name": "stdout",
     "output_type": "stream",
     "text": [
      "[7, 8, 9]\n"
     ]
    }
   ],
   "source": [
    "###最小堆实现topK\n",
    "def heap_adjust(A,i,size):\n",
    "    left = 2*i+1\n",
    "    right = 2*i+2\n",
    "    min_index = i\n",
    "    if(left<size and A[min_index]>A[left]):\n",
    "        min_index = left\n",
    "    if(right<size and A[min_index]>A[right]):\n",
    "        min_index = right\n",
    "    if(min_index!=i):\n",
    "        temp = A[min_index]\n",
    "        A[min_index] = A[i]\n",
    "        A[i] = temp\n",
    "        heap_adjust(A,min_index,size)\n",
    "    return A\n",
    " \n",
    "def build_heap(A,size):\n",
    "    for i in range(int(size/2),-1,-1):\n",
    "        heap_adjust(A,i,size)\n",
    "    return A\n",
    " \n",
    " \n",
    "arr = [1,2,3,4,5,6,7,8,9]\n",
    "b = build_heap(arr[:3],3)\n",
    "for i in range(3,len(arr)):\n",
    "    if(arr[i]>b[0]):\n",
    "        b[0] = arr[i]\n",
    "    b = heap_adjust(b,0,3)\n",
    "print(b)"
   ]
  },
  {
   "cell_type": "code",
   "execution_count": null,
   "metadata": {
    "collapsed": true
   },
   "outputs": [],
   "source": []
  }
 ],
 "metadata": {
  "kernelspec": {
   "display_name": "Python 3",
   "language": "python",
   "name": "python3"
  },
  "language_info": {
   "codemirror_mode": {
    "name": "ipython",
    "version": 3
   },
   "file_extension": ".py",
   "mimetype": "text/x-python",
   "name": "python",
   "nbconvert_exporter": "python",
   "pygments_lexer": "ipython3",
   "version": "3.6.3"
  },
  "toc": {
   "base_numbering": 1,
   "nav_menu": {},
   "number_sections": true,
   "sideBar": true,
   "skip_h1_title": false,
   "title_cell": "Table of Contents",
   "title_sidebar": "Contents",
   "toc_cell": false,
   "toc_position": {},
   "toc_section_display": true,
   "toc_window_display": false
  }
 },
 "nbformat": 4,
 "nbformat_minor": 2
}
