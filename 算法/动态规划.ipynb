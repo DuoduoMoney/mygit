{
 "cells": [
  {
   "cell_type": "code",
   "execution_count": 1,
   "metadata": {
    "ExecuteTime": {
     "end_time": "2019-12-30T07:33:46.595107Z",
     "start_time": "2019-12-30T07:33:45.481056Z"
    }
   },
   "outputs": [
    {
     "name": "stdout",
     "output_type": "stream",
     "text": [
      "[[  0.   0.  10.  10.  10.  10.]\n",
      " [  3.   3.  10.  13.  13.  13.]\n",
      " [  3.   9.  12.  13.  19.  22.]\n",
      " [  3.   9.  12.  14.  19.  22.]\n",
      " [  6.   9.  15.  18.  20.  25.]]\n",
      "--------------------------------------\n",
      "[['' '' 'water' 'water' 'water' 'water']\n",
      " ['book' 'book' 'water' 'book,water' 'book,water' 'book,water']\n",
      " ['book' 'food' 'food,book' 'book,water' 'food,water' 'food,book,water']\n",
      " ['book' 'food' 'food,book' 'jacket,food' 'food,water' 'food,book,water']\n",
      " ['camera' 'food' 'camera,food' 'camera,food,book' 'camera,jacket,food'\n",
      "  'camera,food,water']]\n"
     ]
    }
   ],
   "source": [
    "#动态规划\n",
    "import numpy as np\n",
    " \n",
    "#定义重量\n",
    "weight={}\n",
    "weight[\"water\"]=3\n",
    "weight[\"book\"]=1\n",
    "weight[\"food\"]=2\n",
    "weight[\"jacket\"]=2\n",
    "weight[\"camera\"]=1\n",
    "#定义价值\n",
    "worth={}\n",
    "worth[\"water\"]=10\n",
    "worth[\"book\"]=3\n",
    "worth[\"food\"]=9\n",
    "worth[\"jacket\"]=5\n",
    "worth[\"camera\"]=6\n",
    " \n",
    "#存放行标对应的物品名:\n",
    "table_name={}\n",
    "table_name[0]=\"water\"\n",
    "table_name[1]=\"book\"\n",
    "table_name[2]=\"food\"\n",
    "table_name[3]=\"jacket\"\n",
    "table_name[4]=\"camera\"\n",
    " \n",
    " \n",
    "#创建矩阵,用来保存价值表\n",
    "table=np.zeros((len(weight),6))\n",
    " \n",
    "#创建矩阵，用来保存每个单元格中的价值是如何得到的（物品名）\n",
    "table_class=np.zeros((len(weight), 6), dtype=np.dtype((np.str_,500)))\n",
    " \n",
    "for i in range(0,len(weight)):\n",
    "    for j in range(0,6):\n",
    "        # 获取重量\n",
    "        this_weight = weight[table_name[i]]\n",
    "        # 获得价值\n",
    "        this_worth = worth[table_name[i]]\n",
    "        #获取上一个单元格 (i-1,j)的值\n",
    "        if(i>0):\n",
    "            before_worth=table[i-1,j]\n",
    "            #获取（i-1,j-重量）\n",
    "            temp=0\n",
    "            if(this_weight<=j):\n",
    "                temp=table[i-1,j-this_weight]\n",
    "            #(i-1,j-this_weight)+求当前商品价值\n",
    "            #判断this_worth能不能用，即重量有没有超标，如果重量超标了是不能加的\n",
    "            synthesize_worth=0\n",
    "            if(this_weight-1<=j):\n",
    "                synthesize_worth=this_worth+temp\n",
    "            #与上一个单元格比较,哪个大写入哪个\n",
    "            if(synthesize_worth>before_worth):\n",
    "                table[i,j]=synthesize_worth\n",
    "                if(temp==0):\n",
    "                    #他自己就超过了\n",
    "                    table_class[i][j] = table_name[i]\n",
    "                else:\n",
    "                    # 他自己和(i-1,j-this_weight)\n",
    "                    table_class[i][j] = table_name[i] + \",\" + table_class[i - 1][j - this_weight]\n",
    "            else:\n",
    "                table[i,j]=before_worth\n",
    "                table_class[i][j]=table_class[i-1][j]\n",
    "        else:\n",
    "            #没有（i-1,j）那更没有(i-1,j-重量),就等于当前商品价值,或者重量不够，是0\n",
    "            if(this_weight-1<=j):\n",
    "                table[i,j]=this_worth\n",
    "                table_class[i][j]=table_name[i]\n",
    "print(table)\n",
    " \n",
    "print(\"--------------------------------------\")\n",
    " \n",
    "print(table_class)"
   ]
  },
  {
   "cell_type": "code",
   "execution_count": null,
   "metadata": {
    "collapsed": true
   },
   "outputs": [],
   "source": []
  }
 ],
 "metadata": {
  "kernelspec": {
   "display_name": "Python 3",
   "language": "python",
   "name": "python3"
  },
  "language_info": {
   "codemirror_mode": {
    "name": "ipython",
    "version": 3
   },
   "file_extension": ".py",
   "mimetype": "text/x-python",
   "name": "python",
   "nbconvert_exporter": "python",
   "pygments_lexer": "ipython3",
   "version": "3.6.3"
  },
  "toc": {
   "base_numbering": 1,
   "nav_menu": {},
   "number_sections": true,
   "sideBar": true,
   "skip_h1_title": false,
   "title_cell": "Table of Contents",
   "title_sidebar": "Contents",
   "toc_cell": false,
   "toc_position": {},
   "toc_section_display": true,
   "toc_window_display": false
  }
 },
 "nbformat": 4,
 "nbformat_minor": 2
}
