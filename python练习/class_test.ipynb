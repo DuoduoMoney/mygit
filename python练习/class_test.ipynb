{
 "cells": [
  {
   "cell_type": "code",
   "execution_count": null,
   "metadata": {
    "ExecuteTime": {
     "end_time": "2019-11-22T02:55:29.294488Z",
     "start_time": "2019-11-22T02:55:29.277564Z"
    },
    "collapsed": true
   },
   "outputs": [],
   "source": [
    "#加上__init__()方法后，类才可以实例化，不加类就是个空壳，相当于一个方法集合\n",
    "#不用init()方法定义类\n",
    "class Rectangle():\n",
    "    def getPeri(self,a,b):\n",
    "        return (a + b)*2\n",
    "    def getArea(self,a,b):\n",
    "        return a*b\n",
    "\n",
    "rect = Rectangle()\n",
    "print(rect.getPeri(3,4))\n",
    "print(rect.getArea(3,4))\n",
    "print(rect.__dict__)"
   ]
  },
  {
   "cell_type": "code",
   "execution_count": 3,
   "metadata": {
    "ExecuteTime": {
     "end_time": "2019-11-22T02:56:52.665329Z",
     "start_time": "2019-11-22T02:56:52.651369Z"
    }
   },
   "outputs": [
    {
     "name": "stdout",
     "output_type": "stream",
     "text": [
      "14\n",
      "12\n",
      "{'a': 3, 'b': 4}\n"
     ]
    }
   ],
   "source": [
    "#用init()方法定义类\n",
    "\n",
    "#上述同样的例子，采用init()方法定义类，如下：\n",
    "class Rectangle():\n",
    "    def __init__(self,a,b):\n",
    "        self.a = a\n",
    "        self.b = b\n",
    "    def getPeri(self):\n",
    "        return (self.a + self.b)*2\n",
    "    def getArea(self):\n",
    "        return self.a * self.b\n",
    "\n",
    "rect = Rectangle(3,4)\n",
    "print(rect.getPeri())\n",
    "print(rect.getArea())\n",
    "print(rect.__dict__)"
   ]
  },
  {
   "cell_type": "code",
   "execution_count": 22,
   "metadata": {
    "ExecuteTime": {
     "end_time": "2019-11-22T03:10:06.662501Z",
     "start_time": "2019-11-22T03:10:06.650533Z"
    }
   },
   "outputs": [
    {
     "name": "stdout",
     "output_type": "stream",
     "text": [
      "-9\n",
      "{'a': -3, 'b': 8}\n"
     ]
    }
   ],
   "source": [
    "class panduan():\n",
    "    def __init__(self,a,b):\n",
    "        self.a = a\n",
    "        self.b = b\n",
    "    def big(self):\n",
    "        if self.a < self.b:\n",
    "            print(self.b)\n",
    "    def small(self):\n",
    "        if self.a < self.b:\n",
    "            print(self.a)\n",
    "            \n",
    "panduan(-9,3).small()\n",
    "print(panduan(-3,8).__dict__)"
   ]
  },
  {
   "cell_type": "code",
   "execution_count": 24,
   "metadata": {
    "ExecuteTime": {
     "end_time": "2019-11-22T03:15:20.351672Z",
     "start_time": "2019-11-22T03:15:20.339716Z"
    }
   },
   "outputs": [
    {
     "name": "stdout",
     "output_type": "stream",
     "text": [
      "6000\n"
     ]
    }
   ],
   "source": [
    "class Box:\n",
    "    def setDimension(self, width, height, depth):\n",
    "        self.width = width\n",
    "        self.height = height\n",
    "        self.depth = depth\n",
    " \n",
    "    def getVolume(self):\n",
    "        return self.width * self.height * self.depth\n",
    " \n",
    "b = Box()\n",
    "b.setDimension(10, 20, 30)\n",
    "\n",
    "print(b.getVolume())"
   ]
  },
  {
   "cell_type": "code",
   "execution_count": 26,
   "metadata": {
    "ExecuteTime": {
     "end_time": "2019-11-22T03:18:18.505290Z",
     "start_time": "2019-11-22T03:18:18.491328Z"
    }
   },
   "outputs": [
    {
     "name": "stdout",
     "output_type": "stream",
     "text": [
      "6000\n"
     ]
    }
   ],
   "source": [
    "class Box:\n",
    "    #def setDimension(self, width, height, depth):\n",
    "    #   self.width = width\n",
    "    #   self.height = height\n",
    "    #   self.depth = depth\n",
    "    def __init__(self, width, height, depth):\n",
    "        self.width = width\n",
    "        self.height = height\n",
    "        self.depth = depth\n",
    " \n",
    "    def getVolume(self):\n",
    "        return self.width * self.height * self.depth\n",
    " \n",
    "b = Box(10, 20, 30)\n",
    "print(b.getVolume())"
   ]
  },
  {
   "cell_type": "code",
   "execution_count": null,
   "metadata": {
    "collapsed": true
   },
   "outputs": [],
   "source": []
  }
 ],
 "metadata": {
  "kernelspec": {
   "display_name": "Python 3",
   "language": "python",
   "name": "python3"
  },
  "language_info": {
   "codemirror_mode": {
    "name": "ipython",
    "version": 3
   },
   "file_extension": ".py",
   "mimetype": "text/x-python",
   "name": "python",
   "nbconvert_exporter": "python",
   "pygments_lexer": "ipython3",
   "version": "3.6.3"
  }
 },
 "nbformat": 4,
 "nbformat_minor": 2
}
